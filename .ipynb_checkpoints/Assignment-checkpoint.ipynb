{
 "cells": [
  {
   "cell_type": "markdown",
   "metadata": {},
   "source": [
    "## Assignment 6\n",
    "This assignment requires you to work with Facebook network data, data preprocessing and `networkx`. Note that this is real data from real people!"
   ]
  },
  {
   "cell_type": "markdown",
   "metadata": {},
   "source": [
    "### Part 1: Preparing data\n",
    "\n",
    "The dataset you will be working with is available here: https://snap.stanford.edu/data/egonets-Facebook.html\n",
    "\n",
    "You're first job is to \n",
    "1. Download the data\n",
    "2. Unpack the data\n",
    "3. Import the data as an undirected graph in `networkx`\n",
    "\n",
    "This should **all be done from your notebook in Python**. This is an important step for you to automate data preprocessing. \n",
    "\n",
    "Note: this could take a while, so if you feel adventurous you can use the `multiprocessing` library to speed things up.\n",
    "\n",
    "Hand-in:\n",
    "* The code for downloading, unpacking and loading the dataset"
   ]
  },
  {
   "cell_type": "code",
   "execution_count": 1,
   "metadata": {},
   "outputs": [],
   "source": [
    "import requests\n",
    "\n",
    "url = 'https://snap.stanford.edu/data/facebook_combined.txt.gz'\n",
    "fname = \"facebook_combined.txt.gz\"\n",
    "response = requests.get(url, allow_redirects=True)\n",
    "if response.ok:\n",
    "    with open(fname, \"wb\") as f:\n",
    "        f.write(response.content)"
   ]
  },
  {
   "cell_type": "code",
   "execution_count": 4,
   "metadata": {},
   "outputs": [],
   "source": [
    "%%bash\n",
    "gzip -d facebook_combined.txt.gz"
   ]
  },
  {
   "cell_type": "code",
   "execution_count": 5,
   "metadata": {},
   "outputs": [
    {
     "name": "stdout",
     "output_type": "stream",
     "text": [
      "total 1704\n",
      "-rw-r--r--  1 martin  staff   937B 21 Mar 16:31 requirements.txt\n",
      "-rw-r--r--  1 martin  staff   834K 21 Mar 21:17 facebook_combined.txt\n",
      "-rw-r--r--  1 martin  staff    10K 21 Mar 21:17 Assignment.ipynb\n"
     ]
    }
   ],
   "source": [
    "%%bash\n",
    "ls -ltrh | tail"
   ]
  },
  {
   "cell_type": "code",
   "execution_count": 7,
   "metadata": {},
   "outputs": [
    {
     "name": "stdout",
     "output_type": "stream",
     "text": [
      "Name: \n",
      "Type: Graph\n",
      "Number of nodes: 4039\n",
      "Number of edges: 88234\n",
      "Average degree:  43.6910\n"
     ]
    }
   ],
   "source": [
    "import networkx as nx\n",
    "import matplotlib.pyplot as plt\n",
    "from networkx.drawing.nx_agraph import graphviz_layout, write_dot\n",
    "\n",
    "graph = nx.Graph()\n",
    "graph = nx.read_edgelist(\"facebook_combined.txt\")\n",
    "\n",
    "print(nx.info(graph))\n"
   ]
  },
  {
   "cell_type": "markdown",
   "metadata": {},
   "source": [
    "## Part 2: Analyse the data\n",
    "\n",
    "Now, let's take a look at the network you imported. \n",
    "\n",
    "By *node degree* we mean the *number of edges to and from a node*. This is different in an undirected network, where in-degree == out-degree, and a directed network where in-degree != out-degree.\n",
    "\n",
    "By *graph degree* we mean the *number of edges in the entire network*.\n",
    "\n",
    "Hand-in code that display:\n",
    "* The number of nodes in the network\n",
    "* The number of edges in the network\n",
    "* The average degree in the network\n",
    "* A visualisation of the network inside your notebook"
   ]
  },
  {
   "cell_type": "markdown",
   "metadata": {},
   "source": [
    "### Part 3: Find the most popular people\n",
    "\n",
    "We're naturally interested in who has the most friends, so we want to extract **top 10**. That is, the 10 most connected people.\n",
    "\n",
    "Hand-in:\n",
    "* Code that extracts and reports the 10 people with the most connections in the network"
   ]
  },
  {
   "cell_type": "code",
   "execution_count": null,
   "metadata": {},
   "outputs": [],
   "source": []
  }
 ],
 "metadata": {
  "kernelspec": {
   "display_name": "Python 3",
   "language": "python",
   "name": "python3"
  },
  "language_info": {
   "codemirror_mode": {
    "name": "ipython",
    "version": 3
   },
   "file_extension": ".py",
   "mimetype": "text/x-python",
   "name": "python",
   "nbconvert_exporter": "python",
   "pygments_lexer": "ipython3",
   "version": "3.7.1"
  }
 },
 "nbformat": 4,
 "nbformat_minor": 2
}
